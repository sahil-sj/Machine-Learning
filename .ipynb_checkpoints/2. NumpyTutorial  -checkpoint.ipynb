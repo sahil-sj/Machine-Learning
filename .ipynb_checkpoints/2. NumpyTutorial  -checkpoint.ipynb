{
 "cells": [
  {
   "cell_type": "code",
   "execution_count": 1,
   "id": "7be3cfbf",
   "metadata": {},
   "outputs": [],
   "source": [
    "#numpy --> Full form numerical python\n",
    "#Why we use as we have list --> Because its fast as its more close\n",
    "# to hardware than python lists. Compiler is faster than Interpreter\n",
    "# C++ and C program is faster than python in speed\n",
    "# As a data scientist speed is matter\n",
    "# Also numpy takes less space than list as they are linked to \n",
    "# other objects."
   ]
  },
  {
   "cell_type": "code",
   "execution_count": 2,
   "id": "71a2e17e",
   "metadata": {},
   "outputs": [
    {
     "name": "stdout",
     "output_type": "stream",
     "text": [
      "[1, 2, 3]\n"
     ]
    }
   ],
   "source": [
    "l=[1,2,3]\n",
    "print(l)"
   ]
  },
  {
   "cell_type": "code",
   "execution_count": 3,
   "id": "1c312a6a",
   "metadata": {},
   "outputs": [],
   "source": [
    "import numpy as np\n",
    "# now we access function of numpy as np\n"
   ]
  },
  {
   "cell_type": "code",
   "execution_count": 4,
   "id": "b2c58c3d",
   "metadata": {},
   "outputs": [],
   "source": [
    "# numpy is written in C(low level language) so its \n",
    "#compiled language and faster.\n",
    "l=[6,5,7]"
   ]
  },
  {
   "cell_type": "code",
   "execution_count": 6,
   "id": "bf6bf2e8",
   "metadata": {},
   "outputs": [],
   "source": [
    "#Proof that numpy is faster\n",
    "#arange is same as puthon range funcion\n",
    "arr=np.arange(1000000)"
   ]
  },
  {
   "cell_type": "code",
   "execution_count": 8,
   "id": "1eb917f3",
   "metadata": {},
   "outputs": [],
   "source": [
    "pylist=list(range(1000000))"
   ]
  },
  {
   "cell_type": "code",
   "execution_count": 9,
   "id": "6d25e2c7",
   "metadata": {},
   "outputs": [
    {
     "name": "stdout",
     "output_type": "stream",
     "text": [
      "CPU times: total: 922 ms\n",
      "Wall time: 927 ms\n"
     ]
    }
   ],
   "source": [
    "%time for _ in range(10): [i*3 for i in pylist]\n",
    "    "
   ]
  },
  {
   "cell_type": "code",
   "execution_count": 10,
   "id": "ad1d8f09",
   "metadata": {},
   "outputs": [
    {
     "name": "stdout",
     "output_type": "stream",
     "text": [
      "CPU times: total: 31.2 ms\n",
      "Wall time: 31.9 ms\n"
     ]
    }
   ],
   "source": [
    "#See how fast(100 times faster or more you cans saY) numpy\n",
    "#array is ! and space taken is also less as \n",
    "# its written in C\n",
    "%time for _ in range(10): arr=arr*3"
   ]
  },
  {
   "cell_type": "code",
   "execution_count": 13,
   "id": "822854ba",
   "metadata": {},
   "outputs": [
    {
     "data": {
      "text/plain": [
       "array([1, 2, 3, 4, 5])"
      ]
     },
     "execution_count": 13,
     "metadata": {},
     "output_type": "execute_result"
    }
   ],
   "source": [
    "#numpy array and operation perform in this array \n",
    "#done therough numpy\n",
    "np.array([1,2,3,4,5])"
   ]
  },
  {
   "cell_type": "code",
   "execution_count": null,
   "id": "d83780af",
   "metadata": {},
   "outputs": [],
   "source": [
    "# Dont use \"from numpy import *\" isse saara ka saara numpy install\n",
    "# ho jayega and isse aapko np.arrange likhne ki zarorat nhi h \n",
    "#you can write \"arr=arange()\" Why dont we also use it then\n",
    "# (i) as numpy is a big package to uske saare ke saare package import\n",
    "#ho jayege and thats not good for your program\n",
    "#(ii) if you import package and they have same name functions\n",
    "# as python lib like max min ... its also available in numpy\n",
    "# So it will create conflict between both the functions\n",
    "# so ALWAYS IMPORT PACKAGE LIKE THIS \"import numpy as np\"."
   ]
  }
 ],
 "metadata": {
  "kernelspec": {
   "display_name": "Python 3 (ipykernel)",
   "language": "python",
   "name": "python3"
  },
  "language_info": {
   "codemirror_mode": {
    "name": "ipython",
    "version": 3
   },
   "file_extension": ".py",
   "mimetype": "text/x-python",
   "name": "python",
   "nbconvert_exporter": "python",
   "pygments_lexer": "ipython3",
   "version": "3.10.4"
  }
 },
 "nbformat": 4,
 "nbformat_minor": 5
}
