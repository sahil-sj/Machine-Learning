{
 "cells": [
  {
   "cell_type": "markdown",
   "id": "90c13d7b",
   "metadata": {},
   "source": [
    "## Basic functions"
   ]
  },
  {
   "cell_type": "code",
   "execution_count": 45,
   "id": "21f394de",
   "metadata": {},
   "outputs": [],
   "source": [
    "import numpy as np\n",
    "#Numpy array\n",
    "array1=np.array([[3,5,6,8,10],[1,2,3,4,5]],dtype='int32')"
   ]
  },
  {
   "cell_type": "code",
   "execution_count": 46,
   "id": "2094f9c1",
   "metadata": {},
   "outputs": [
    {
     "name": "stdout",
     "output_type": "stream",
     "text": [
      "[[ 3  5  6  8 10]\n",
      " [ 1  2  3  4  5]]\n"
     ]
    },
    {
     "data": {
      "text/plain": [
       "numpy.ndarray"
      ]
     },
     "execution_count": 46,
     "metadata": {},
     "output_type": "execute_result"
    }
   ],
   "source": [
    "print(array1)\n",
    "type(array1)"
   ]
  },
  {
   "cell_type": "code",
   "execution_count": 47,
   "id": "919314ff",
   "metadata": {},
   "outputs": [
    {
     "data": {
      "text/plain": [
       "(2, 5)"
      ]
     },
     "execution_count": 47,
     "metadata": {},
     "output_type": "execute_result"
    }
   ],
   "source": [
    "# tells shape in rows and columns \n",
    "array1.shape"
   ]
  },
  {
   "cell_type": "code",
   "execution_count": 48,
   "id": "dc8df311",
   "metadata": {},
   "outputs": [
    {
     "data": {
      "text/plain": [
       "dtype('int32')"
      ]
     },
     "execution_count": 48,
     "metadata": {},
     "output_type": "execute_result"
    }
   ],
   "source": [
    "# tells datatype of numpy array acc to values you provide\n",
    "array1.dtype"
   ]
  },
  {
   "cell_type": "code",
   "execution_count": 49,
   "id": "5a6b78b2",
   "metadata": {},
   "outputs": [],
   "source": [
    "# Study in google --> Numpy attributes."
   ]
  },
  {
   "cell_type": "code",
   "execution_count": 50,
   "id": "b283151e",
   "metadata": {},
   "outputs": [
    {
     "data": {
      "text/plain": [
       "array([0., 0., 0., 0.])"
      ]
     },
     "execution_count": 50,
     "metadata": {},
     "output_type": "execute_result"
    }
   ],
   "source": [
    "# Mkaes empty array with 4 value 0's\n",
    "np.zeros(4)"
   ]
  },
  {
   "cell_type": "code",
   "execution_count": 51,
   "id": "8ff667a5",
   "metadata": {},
   "outputs": [
    {
     "data": {
      "text/plain": [
       "array([[0., 0., 0., 0., 0., 0.],\n",
       "       [0., 0., 0., 0., 0., 0.],\n",
       "       [0., 0., 0., 0., 0., 0.],\n",
       "       [0., 0., 0., 0., 0., 0.]])"
      ]
     },
     "execution_count": 51,
     "metadata": {},
     "output_type": "execute_result"
    }
   ],
   "source": [
    "# For 2d empty array add dimensions in tuples\n",
    "np.zeros((4,6))"
   ]
  },
  {
   "cell_type": "code",
   "execution_count": 52,
   "id": "52269897",
   "metadata": {},
   "outputs": [
    {
     "data": {
      "text/plain": [
       "dtype('float64')"
      ]
     },
     "execution_count": 52,
     "metadata": {},
     "output_type": "execute_result"
    }
   ],
   "source": [
    "#similar with 1's value\n",
    "np.ones(6).dtype"
   ]
  },
  {
   "cell_type": "code",
   "execution_count": 53,
   "id": "96c663d9",
   "metadata": {},
   "outputs": [
    {
     "data": {
      "text/plain": [
       "array([[0., 0., 0., 0., 0., 0.],\n",
       "       [0., 0., 0., 0., 0., 0.],\n",
       "       [0., 0., 0., 0., 0., 0.],\n",
       "       [0., 0., 0., 0., 0., 0.]])"
      ]
     },
     "execution_count": 53,
     "metadata": {},
     "output_type": "execute_result"
    }
   ],
   "source": [
    "# Diff between empty and zeros --> in np.zeros values are always \n",
    "# zer but in np.empty --> It allocates memory. there may be garbage value instead of zero\n",
    "#so you cant rely upon it.\n",
    "np.empty((4,6))"
   ]
  },
  {
   "cell_type": "code",
   "execution_count": 54,
   "id": "f66b9dbb",
   "metadata": {},
   "outputs": [
    {
     "data": {
      "text/plain": [
       "array([[ 3,  5,  6,  8, 10],\n",
       "       [ 1,  2,  3,  4,  5]])"
      ]
     },
     "execution_count": 54,
     "metadata": {},
     "output_type": "execute_result"
    }
   ],
   "source": [
    "array1"
   ]
  },
  {
   "cell_type": "markdown",
   "id": "ebe1e6a9",
   "metadata": {},
   "source": [
    "# Numpy arithmetic"
   ]
  },
  {
   "cell_type": "code",
   "execution_count": 55,
   "id": "4eed067e",
   "metadata": {},
   "outputs": [
    {
     "data": {
      "text/plain": [
       "array([[  9,  25,  36,  64, 100],\n",
       "       [  1,   4,   9,  16,  25]])"
      ]
     },
     "execution_count": 55,
     "metadata": {},
     "output_type": "execute_result"
    }
   ],
   "source": [
    "# It does not do matrix multiplication.It do element by element.\n",
    "array1*array1"
   ]
  },
  {
   "cell_type": "code",
   "execution_count": 56,
   "id": "5c61e044",
   "metadata": {},
   "outputs": [
    {
     "data": {
      "text/plain": [
       "array([[ 6, 10, 12, 16, 20],\n",
       "       [ 2,  4,  6,  8, 10]])"
      ]
     },
     "execution_count": 56,
     "metadata": {},
     "output_type": "execute_result"
    }
   ],
   "source": [
    "array1+array1"
   ]
  },
  {
   "cell_type": "code",
   "execution_count": 57,
   "id": "75ab81b0",
   "metadata": {},
   "outputs": [
    {
     "data": {
      "text/plain": [
       "array([[0, 0, 0, 0, 0],\n",
       "       [0, 0, 0, 0, 0]])"
      ]
     },
     "execution_count": 57,
     "metadata": {},
     "output_type": "execute_result"
    }
   ],
   "source": [
    "array1-array1"
   ]
  },
  {
   "cell_type": "code",
   "execution_count": 58,
   "id": "f0488029",
   "metadata": {},
   "outputs": [
    {
     "data": {
      "text/plain": [
       "array([[1., 1., 1., 1., 1.],\n",
       "       [1., 1., 1., 1., 1.]])"
      ]
     },
     "execution_count": 58,
     "metadata": {},
     "output_type": "execute_result"
    }
   ],
   "source": [
    "array1/array1"
   ]
  },
  {
   "cell_type": "code",
   "execution_count": 59,
   "id": "a036c165",
   "metadata": {},
   "outputs": [
    {
     "data": {
      "text/plain": [
       "array([[        27,       3125,      46656,   16777216, 1410065408],\n",
       "       [         1,          4,         27,        256,       3125]])"
      ]
     },
     "execution_count": 59,
     "metadata": {},
     "output_type": "execute_result"
    }
   ],
   "source": [
    "array1**array1"
   ]
  },
  {
   "cell_type": "code",
   "execution_count": 60,
   "id": "aadb222c",
   "metadata": {},
   "outputs": [
    {
     "data": {
      "text/plain": [
       "array([[0.33333333, 0.2       , 0.16666667, 0.125     , 0.1       ],\n",
       "       [1.        , 0.5       , 0.33333333, 0.25      , 0.2       ]])"
      ]
     },
     "execution_count": 60,
     "metadata": {},
     "output_type": "execute_result"
    }
   ],
   "source": [
    "1/array1"
   ]
  },
  {
   "cell_type": "markdown",
   "id": "6536b441",
   "metadata": {},
   "source": [
    "## Slicing ( imp in numpy )"
   ]
  },
  {
   "cell_type": "code",
   "execution_count": 73,
   "id": "9238ff5d",
   "metadata": {},
   "outputs": [
    {
     "data": {
      "text/plain": [
       "array([[ 3,  5,  6,  8, 10],\n",
       "       [ 1,  2,  3,  4,  5]])"
      ]
     },
     "execution_count": 73,
     "metadata": {},
     "output_type": "execute_result"
    }
   ],
   "source": [
    "array1"
   ]
  },
  {
   "cell_type": "code",
   "execution_count": 62,
   "id": "ddb3f3aa",
   "metadata": {},
   "outputs": [
    {
     "data": {
      "text/plain": [
       "array([], shape=(0, 5), dtype=int32)"
      ]
     },
     "execution_count": 62,
     "metadata": {},
     "output_type": "execute_result"
    }
   ],
   "source": [
    "array1[4:6] # gives blank array because its 2D array so we make 2d array "
   ]
  },
  {
   "cell_type": "code",
   "execution_count": 78,
   "id": "0571b063",
   "metadata": {},
   "outputs": [],
   "source": [
    "a2=np.array([5,4,64,3,3,3])"
   ]
  },
  {
   "cell_type": "code",
   "execution_count": 64,
   "id": "dc51bd73",
   "metadata": {},
   "outputs": [],
   "source": [
    "arr=a2[4:6] # Print 4th and 5th element "
   ]
  },
  {
   "cell_type": "code",
   "execution_count": 79,
   "id": "71be1fa7",
   "metadata": {},
   "outputs": [
    {
     "data": {
      "text/plain": [
       "array([9, 3])"
      ]
     },
     "execution_count": 79,
     "metadata": {},
     "output_type": "execute_result"
    }
   ],
   "source": [
    "arr"
   ]
  },
  {
   "cell_type": "code",
   "execution_count": 81,
   "id": "a2c5fba6",
   "metadata": {},
   "outputs": [],
   "source": [
    "arr[0]=9"
   ]
  },
  {
   "cell_type": "code",
   "execution_count": 67,
   "id": "7338c4a7",
   "metadata": {},
   "outputs": [
    {
     "data": {
      "text/plain": [
       "array([ 5,  4, 64,  3,  9,  3])"
      ]
     },
     "execution_count": 67,
     "metadata": {},
     "output_type": "execute_result"
    }
   ],
   "source": [
    "# why it changes in a2 when i change arr\n",
    "# numpy array slicing is a view not copy so arr point to elements \n",
    "# in a2 thats why its changes... arr points to a2\n",
    "a2"
   ]
  },
  {
   "cell_type": "code",
   "execution_count": 83,
   "id": "3b5dd231",
   "metadata": {},
   "outputs": [],
   "source": [
    "# How to make copy of numpy array(slicing)\n",
    "acopy=a2[4:6].copy()"
   ]
  },
  {
   "cell_type": "code",
   "execution_count": 82,
   "id": "01c673ff",
   "metadata": {},
   "outputs": [
    {
     "data": {
      "text/plain": [
       "array([ 5,  4, 64,  3,  3,  3])"
      ]
     },
     "execution_count": 82,
     "metadata": {},
     "output_type": "execute_result"
    }
   ],
   "source": [
    "a2"
   ]
  },
  {
   "cell_type": "code",
   "execution_count": 89,
   "id": "0c1e89f4",
   "metadata": {},
   "outputs": [
    {
     "data": {
      "text/plain": [
       "array([67,  3])"
      ]
     },
     "execution_count": 89,
     "metadata": {},
     "output_type": "execute_result"
    }
   ],
   "source": [
    "acopy[0] = 67\n",
    "acopy"
   ]
  },
  {
   "cell_type": "code",
   "execution_count": 91,
   "id": "23ad0360",
   "metadata": {},
   "outputs": [
    {
     "data": {
      "text/plain": [
       "array([ 5,  4, 64,  3,  3,  3])"
      ]
     },
     "execution_count": 91,
     "metadata": {},
     "output_type": "execute_result"
    }
   ],
   "source": [
    "# Now its unimpacted. Thank you .copy() function\n",
    "a2"
   ]
  },
  {
   "cell_type": "code",
   "execution_count": 94,
   "id": "8b8e1dec",
   "metadata": {},
   "outputs": [
    {
     "data": {
      "text/plain": [
       "array([ 3,  5,  6,  8, 10])"
      ]
     },
     "execution_count": 94,
     "metadata": {},
     "output_type": "execute_result"
    }
   ],
   "source": [
    "# 2D array\n",
    "array1[0]"
   ]
  },
  {
   "cell_type": "code",
   "execution_count": 98,
   "id": "400aa80a",
   "metadata": {},
   "outputs": [
    {
     "data": {
      "text/plain": [
       "8"
      ]
     },
     "execution_count": 98,
     "metadata": {},
     "output_type": "execute_result"
    }
   ],
   "source": [
    "# Slicing in 2D\n",
    "array1[0,3]"
   ]
  },
  {
   "cell_type": "code",
   "execution_count": null,
   "id": "f3374056",
   "metadata": {},
   "outputs": [],
   "source": [
    "# Numpy has speed, less memory taken, numerous functions\n",
    "#( jo bhi aap sochoge function banane ka uska ek built in \n",
    "#function mil hi jayega). So search Numpy documentation."
   ]
  }
 ],
 "metadata": {
  "kernelspec": {
   "display_name": "Python 3 (ipykernel)",
   "language": "python",
   "name": "python3"
  },
  "language_info": {
   "codemirror_mode": {
    "name": "ipython",
    "version": 3
   },
   "file_extension": ".py",
   "mimetype": "text/x-python",
   "name": "python",
   "nbconvert_exporter": "python",
   "pygments_lexer": "ipython3",
   "version": "3.10.4"
  }
 },
 "nbformat": 4,
 "nbformat_minor": 5
}
