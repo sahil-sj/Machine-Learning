{
 "cells": [
  {
   "cell_type": "code",
   "execution_count": 1,
   "id": "d4ac2d60",
   "metadata": {},
   "outputs": [],
   "source": [
    "import numpy as np"
   ]
  },
  {
   "cell_type": "code",
   "execution_count": 2,
   "id": "3673f0e8",
   "metadata": {},
   "outputs": [],
   "source": [
    "# efficient and backend pe C binary ka use krta h  \n",
    "a = np.arange(6)"
   ]
  },
  {
   "cell_type": "code",
   "execution_count": 3,
   "id": "bd9844cc",
   "metadata": {},
   "outputs": [
    {
     "data": {
      "text/plain": [
       "array([0, 1, 2, 3, 4, 5])"
      ]
     },
     "execution_count": 3,
     "metadata": {},
     "output_type": "execute_result"
    }
   ],
   "source": [
    "a"
   ]
  },
  {
   "cell_type": "code",
   "execution_count": 9,
   "id": "30c917ee",
   "metadata": {},
   "outputs": [],
   "source": [
    "b=np.array([1,23,34,34,45,4,5,6,3,7,34,2,1,1,5,4,2,6])"
   ]
  },
  {
   "cell_type": "code",
   "execution_count": 6,
   "id": "3b17acaf",
   "metadata": {},
   "outputs": [
    {
     "data": {
      "text/plain": [
       "(18,)"
      ]
     },
     "execution_count": 6,
     "metadata": {},
     "output_type": "execute_result"
    }
   ],
   "source": [
    "np.shape(b)"
   ]
  },
  {
   "cell_type": "code",
   "execution_count": 7,
   "id": "3003d20c",
   "metadata": {},
   "outputs": [],
   "source": [
    "# for reshaping this array into  dimesnions that you give use rehsape functiom\n",
    "# 6 * 3 should equal to 18\n",
    "# b=b.reshape(6,3)# you can give 9 * 2 asit equal to 18"
   ]
  },
  {
   "cell_type": "code",
   "execution_count": 8,
   "id": "7f79d0f4",
   "metadata": {},
   "outputs": [
    {
     "data": {
      "text/plain": [
       "array([[ 1, 23, 34],\n",
       "       [34, 45,  4],\n",
       "       [ 5,  6,  3],\n",
       "       [ 7, 34,  2],\n",
       "       [ 1,  1,  5],\n",
       "       [ 4,  2,  6]])"
      ]
     },
     "execution_count": 8,
     "metadata": {},
     "output_type": "execute_result"
    }
   ],
   "source": [
    "b\n"
   ]
  },
  {
   "cell_type": "code",
   "execution_count": 10,
   "id": "b9560bb7",
   "metadata": {},
   "outputs": [
    {
     "data": {
      "text/plain": [
       "array([ 1, 23, 34, 34, 45,  4,  5,  6,  3,  7, 34,  2,  1,  1,  5,  4,  2,\n",
       "        6])"
      ]
     },
     "execution_count": 10,
     "metadata": {},
     "output_type": "execute_result"
    }
   ],
   "source": [
    "b"
   ]
  },
  {
   "cell_type": "code",
   "execution_count": 11,
   "id": "adac233e",
   "metadata": {},
   "outputs": [
    {
     "data": {
      "text/plain": [
       "array([ 0, 13, 12, 11, 16,  8, 15,  5,  6, 14,  7, 17,  9,  1, 10,  3,  2,\n",
       "        4], dtype=int64)"
      ]
     },
     "execution_count": 11,
     "metadata": {},
     "output_type": "execute_result"
    }
   ],
   "source": [
    "# It sort the array index acc to given values. Basically it helps you to find\n",
    "# find out those indexes which sort this array\n",
    "# you will manually check because in this you get same value at 0,13 index.\n",
    "np.argsort(b)"
   ]
  },
  {
   "cell_type": "code",
   "execution_count": 12,
   "id": "bf99f15d",
   "metadata": {},
   "outputs": [
    {
     "data": {
      "text/plain": [
       "0"
      ]
     },
     "execution_count": 12,
     "metadata": {},
     "output_type": "execute_result"
    }
   ],
   "source": [
    "np.argmin(b)# vo element dega jo argsort ka pehla hai"
   ]
  },
  {
   "cell_type": "code",
   "execution_count": 13,
   "id": "a68c9963",
   "metadata": {},
   "outputs": [
    {
     "data": {
      "text/plain": [
       "4"
      ]
     },
     "execution_count": 13,
     "metadata": {},
     "output_type": "execute_result"
    }
   ],
   "source": [
    "np.argmax(b)# gives last element of argsort."
   ]
  },
  {
   "cell_type": "code",
   "execution_count": 14,
   "id": "6948625e",
   "metadata": {},
   "outputs": [],
   "source": [
    "c=np.array([1,23,34,34,45,4,5,6,3,7,34,2,1,1,5,4,2,6])"
   ]
  },
  {
   "cell_type": "code",
   "execution_count": 20,
   "id": "30b3553e",
   "metadata": {},
   "outputs": [],
   "source": [
    "c=c.reshape(6,3)"
   ]
  },
  {
   "cell_type": "code",
   "execution_count": 21,
   "id": "943b2a0b",
   "metadata": {},
   "outputs": [
    {
     "data": {
      "text/plain": [
       "array([[ 1, 23, 34],\n",
       "       [34, 45,  4],\n",
       "       [ 5,  6,  3],\n",
       "       [ 7, 34,  2],\n",
       "       [ 1,  1,  5],\n",
       "       [ 4,  2,  6]])"
      ]
     },
     "execution_count": 21,
     "metadata": {},
     "output_type": "execute_result"
    }
   ],
   "source": [
    "c"
   ]
  },
  {
   "cell_type": "code",
   "execution_count": 18,
   "id": "44fc1033",
   "metadata": {},
   "outputs": [
    {
     "data": {
      "text/plain": [
       "array([[0, 1, 2],\n",
       "       [2, 0, 1],\n",
       "       [2, 0, 1],\n",
       "       [2, 0, 1],\n",
       "       [0, 1, 2],\n",
       "       [1, 0, 2]], dtype=int64)"
      ]
     },
     "execution_count": 18,
     "metadata": {},
     "output_type": "execute_result"
    }
   ],
   "source": [
    "np.argsort(c)#axis =1 bidefault"
   ]
  },
  {
   "cell_type": "code",
   "execution_count": 22,
   "id": "d59e2015",
   "metadata": {},
   "outputs": [
    {
     "data": {
      "text/plain": [
       "array([[0, 4, 3],\n",
       "       [4, 5, 2],\n",
       "       [5, 2, 1],\n",
       "       [2, 0, 4],\n",
       "       [3, 3, 5],\n",
       "       [1, 1, 0]], dtype=int64)"
      ]
     },
     "execution_count": 22,
     "metadata": {},
     "output_type": "execute_result"
    }
   ],
   "source": [
    "np.argsort(c,axis=0)"
   ]
  },
  {
   "cell_type": "code",
   "execution_count": null,
   "id": "6b05e050",
   "metadata": {},
   "outputs": [],
   "source": [
    "# note -- you will use numpy in big data as its effiecint for big data \n",
    "# For normal use -- we use normal lists."
   ]
  }
 ],
 "metadata": {
  "kernelspec": {
   "display_name": "Python 3 (ipykernel)",
   "language": "python",
   "name": "python3"
  },
  "language_info": {
   "codemirror_mode": {
    "name": "ipython",
    "version": 3
   },
   "file_extension": ".py",
   "mimetype": "text/x-python",
   "name": "python",
   "nbconvert_exporter": "python",
   "pygments_lexer": "ipython3",
   "version": "3.10.4"
  }
 },
 "nbformat": 4,
 "nbformat_minor": 5
}
